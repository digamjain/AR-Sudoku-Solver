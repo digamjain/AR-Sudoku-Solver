{
 "cells": [
  {
   "cell_type": "code",
   "execution_count": 1,
   "metadata": {},
   "outputs": [],
   "source": [
    "import os\n",
    "os.environ['CUDA_VISIBLE_DEVICES'] = '-1'\n",
    "import tensorflow as tf\n",
    "from tensorflow import keras\n",
    "from keras.datasets import mnist\n",
    "import matplotlib.pyplot as plt\n",
    "import numpy as np"
   ]
  },
  {
   "cell_type": "code",
   "execution_count": 2,
   "metadata": {},
   "outputs": [],
   "source": [
    "(trainx,trainy),(testx,testy) = mnist.load_data()\n",
    "trainx = trainx.reshape(trainx.shape[0], 28, 28, 1)\n",
    "testx = testx.reshape(testx.shape[0], 28, 28, 1)\n",
    "trainx=trainx/255.0\n",
    "testx=testx/255.0"
   ]
  },
  {
   "cell_type": "code",
   "execution_count": 3,
   "metadata": {},
   "outputs": [],
   "source": [
    "model=tf.keras.models.Sequential([tf.keras.layers.Conv2D(filters = 32, kernel_size=(3, 3), activation='relu', input_shape=(28,28,1)),\n",
    "                                  tf.keras.layers.MaxPooling2D(pool_size = (2,2)),\n",
    "                                  tf.keras.layers.Dropout(0.25),\n",
    "                                  tf.keras.layers.Conv2D(filters = 32, kernel_size=(3, 3), activation='relu'),\n",
    "                                  tf.keras.layers.MaxPooling2D(pool_size = (2,2)),\n",
    "                                  tf.keras.layers.Dropout(0.25),\n",
    "                                  tf.keras.layers.Flatten(),\n",
    "                                  tf.keras.layers.Dense(units=128,activation=tf.nn.relu),\n",
    "                                  tf.keras.layers.Dense(units=10,activation=tf.nn.softmax)])"
   ]
  },
  {
   "cell_type": "code",
   "execution_count": null,
   "metadata": {
    "scrolled": true
   },
   "outputs": [
    {
     "name": "stdout",
     "output_type": "stream",
     "text": [
      "Epoch 1/25\n",
      "1875/1875 [==============================] - 63s 33ms/step - loss: 0.1859 - accuracy: 0.9424\n",
      "Epoch 2/25\n",
      "1875/1875 [==============================] - 58s 31ms/step - loss: 0.0667 - accuracy: 0.9789\n",
      "Epoch 3/25\n",
      "1875/1875 [==============================] - 57s 30ms/step - loss: 0.0505 - accuracy: 0.9842\n",
      "Epoch 4/25\n",
      "1875/1875 [==============================] - 57s 31ms/step - loss: 0.0418 - accuracy: 0.9873\n",
      "Epoch 5/25\n",
      "1875/1875 [==============================] - 58s 31ms/step - loss: 0.0361 - accuracy: 0.9882\n",
      "Epoch 6/25\n",
      "1875/1875 [==============================] - 59s 31ms/step - loss: 0.0329 - accuracy: 0.9890\n",
      "Epoch 7/25\n",
      "1875/1875 [==============================] - 58s 31ms/step - loss: 0.0268 - accuracy: 0.9911\n",
      "Epoch 8/25\n",
      "1875/1875 [==============================] - 59s 31ms/step - loss: 0.0249 - accuracy: 0.9914\n",
      "Epoch 9/25\n",
      "1875/1875 [==============================] - 59s 31ms/step - loss: 0.0230 - accuracy: 0.9922\n",
      "Epoch 10/25\n",
      "1875/1875 [==============================] - 58s 31ms/step - loss: 0.0219 - accuracy: 0.9925\n",
      "Epoch 11/25\n",
      "1875/1875 [==============================] - 61s 32ms/step - loss: 0.0189 - accuracy: 0.9938\n",
      "Epoch 12/25\n",
      "1875/1875 [==============================] - 64s 34ms/step - loss: 0.0181 - accuracy: 0.9941\n",
      "Epoch 13/25\n",
      "1875/1875 [==============================] - 71s 38ms/step - loss: 0.0172 - accuracy: 0.9941\n",
      "Epoch 14/25\n",
      "1875/1875 [==============================] - 62s 33ms/step - loss: 0.0165 - accuracy: 0.9943\n",
      "Epoch 15/25\n",
      "1728/1875 [==========================>...] - ETA: 4s - loss: 0.0161 - accuracy: 0.9947"
     ]
    }
   ],
   "source": [
    "model.compile(optimizer=tf.optimizers.Adam(),loss='sparse_categorical_crossentropy',metrics=['accuracy'])\n",
    "model.fit(trainx,trainy,epochs=25)\n",
    "model.save('tf_model.h5')"
   ]
  },
  {
   "cell_type": "code",
   "execution_count": null,
   "metadata": {},
   "outputs": [],
   "source": [
    "new_model = tf.keras.models.load_model('tf_model.h5')"
   ]
  },
  {
   "cell_type": "code",
   "execution_count": null,
   "metadata": {},
   "outputs": [],
   "source": [
    "import cv2\n",
    "image = cv2.imread(\"num2.jfif\")\n",
    "import numpy as np\n",
    "#image = np.array((28,28))\n",
    "gray_image = cv2.cvtColor(image, cv2.COLOR_BGR2GRAY)\n",
    "gray_image = cv2.GaussianBlur(gray_image,(5, 5), 0)\n",
    "\n",
    "_,thresh = cv2.threshold(gray_image, 50, 255, cv2.THRESH_BINARY_INV)"
   ]
  },
  {
   "cell_type": "code",
   "execution_count": null,
   "metadata": {},
   "outputs": [],
   "source": [
    "roi = cv2.resize(thresh, (28, 28), interpolation=cv2.INTER_AREA)\n",
    "im2arr = np.array(roi)\n",
    "im2arr = im2arr.reshape(1,28,28,1)\n",
    "#print(im2arr.shape)\n",
    "#roi = cv2.dilate(roi, (3, 3))\n",
    "#image = roi.reshape(1,1)\n",
    "#print(image.shape)\n",
    "\"\"\"cv2.imshow(\"sudoku\",im2arr)\n",
    "cv2.waitKey(0)\n",
    "cv2.destroyWindow(\"sudoku\")\"\"\"\n",
    "#lst = new_model.predict(im2arr)\n",
    "#lst"
   ]
  },
  {
   "cell_type": "code",
   "execution_count": null,
   "metadata": {},
   "outputs": [],
   "source": [
    "#reshaped_image = testx[0].reshape((28,28))\n",
    "sample = []\n",
    "sample.append(testx[0])\n",
    "sample = np.array(sample)\n",
    "predictions = model.predict(sample)\n",
    "print(predictions)\n",
    "classes = np.argmax(predictions, axis = 1)\n",
    "print(classes)"
   ]
  }
 ],
 "metadata": {
  "kernelspec": {
   "display_name": "Python 3",
   "language": "python",
   "name": "python3"
  },
  "language_info": {
   "codemirror_mode": {
    "name": "ipython",
    "version": 3
   },
   "file_extension": ".py",
   "mimetype": "text/x-python",
   "name": "python",
   "nbconvert_exporter": "python",
   "pygments_lexer": "ipython3",
   "version": "3.7.6"
  }
 },
 "nbformat": 4,
 "nbformat_minor": 4
}
