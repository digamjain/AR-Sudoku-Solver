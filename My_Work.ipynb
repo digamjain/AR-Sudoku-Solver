{
 "cells": [
  {
   "cell_type": "code",
   "execution_count": 7,
   "metadata": {},
   "outputs": [
    {
     "data": {
      "text/plain": [
       "'def find_rec(cnt):\\n    rects = [cv2.boundingRect(ctr) for ctr in cnt]\\n    area=[]\\n    for i in rects:\\n        area.append(i[2]*i[3])\\n    \\n    return area.index(max(area)),rects\\n\\nimage = cv2.imread(\"sudoku.jpeg\")\\n\\ncontours,_ = im_process(image)\\n\\n#cv2.drawContours( image, contours, -1, (128,255,255),3, cv2.LINE_AA)\\n\\nind,rects = find_rec(contours)\\n\\nrect = rects[ind]\\n\\nimg = image[rect[1]:rect[1]+rect[3],rect[0]:rect[0]+rect[2]]\\n\\ncv2.imshow(\"sudoku\", img)\\ncv2.waitKey()\\ncv2.destroyWindow(\"sudoku\")'"
      ]
     },
     "execution_count": 7,
     "metadata": {},
     "output_type": "execute_result"
    }
   ],
   "source": [
    "#image = cv2.imread(\"image1.jpg\")\n",
    "'''def find_rec(cnt):\n",
    "    rects = [cv2.boundingRect(ctr) for ctr in cnt]\n",
    "    area=[]\n",
    "    for i in rects:\n",
    "        area.append(i[2]*i[3])\n",
    "    \n",
    "    return area.index(max(area)),rects\n",
    "\n",
    "image = cv2.imread(\"sudoku.jpeg\")\n",
    "\n",
    "contours,_ = im_process(image)\n",
    "\n",
    "#cv2.drawContours( image, contours, -1, (128,255,255),3, cv2.LINE_AA)\n",
    "\n",
    "ind,rects = find_rec(contours)\n",
    "\n",
    "rect = rects[ind]\n",
    "\n",
    "img = image[rect[1]:rect[1]+rect[3],rect[0]:rect[0]+rect[2]]\n",
    "\n",
    "cv2.imshow(\"sudoku\", img)\n",
    "cv2.waitKey()\n",
    "cv2.destroyWindow(\"sudoku\")'''"
   ]
  },
  {
   "cell_type": "code",
   "execution_count": 8,
   "metadata": {},
   "outputs": [],
   "source": [
    "import os\n",
    "os.environ['CUDA_VISIBLE_DEVICES'] = '-1'"
   ]
  },
  {
   "cell_type": "code",
   "execution_count": 9,
   "metadata": {},
   "outputs": [],
   "source": [
    "import cv2\n",
    "import numpy as np\n",
    "import matplotlib.pyplot as plt\n",
    "import math \n",
    "#For scikit learn hog\n",
    "import joblib\n",
    "from skimage.feature import hog\n",
    "#For tensorflow cnn model\n",
    "import tensorflow as tf\n",
    "from tensorflow import keras"
   ]
  },
  {
   "cell_type": "code",
   "execution_count": 10,
   "metadata": {},
   "outputs": [],
   "source": [
    "def im_process(image):\n",
    "    gray_image = cv2.cvtColor(image,cv2.COLOR_BGR2GRAY)\n",
    "    #gray_image = cv2.GaussianBlur(gray_image,(5, 5), 0)\n",
    "    #gray_image = cv2.blur(gray_image,(5,5))\n",
    "    #gray_image = cv2.medianBlur(gray_image,5)\n",
    "    gray_image = cv2.bilateralFilter(gray_image,9,75,75)\n",
    "    \n",
    "    thresh = cv2.adaptiveThreshold(gray_image,255,cv2.ADAPTIVE_THRESH_GAUSSIAN_C,cv2.THRESH_BINARY_INV,9,2)\n",
    "\n",
    "    contours ,_ = cv2.findContours(thresh.copy(), cv2.RETR_EXTERNAL, cv2.CHAIN_APPROX_SIMPLE)\n",
    "    \n",
    "    return contours,thresh"
   ]
  },
  {
   "cell_type": "code",
   "execution_count": 11,
   "metadata": {},
   "outputs": [],
   "source": [
    "def find_rect(cnt):\n",
    "    rects = [cv2.boundingRect(ctr) for ctr in cnt]\n",
    "    area=[]\n",
    "    for i in rects:\n",
    "        area.append(i[2]*i[3])\n",
    "    \n",
    "    return cnt[area.index(max(area))],rects"
   ]
  },
  {
   "cell_type": "code",
   "execution_count": 12,
   "metadata": {},
   "outputs": [],
   "source": [
    "def rhom(thresh):\n",
    "    lst = []\n",
    "    for i in range(10,int(thresh.shape[0]/2)):\n",
    "        lst.append(sum(thresh[i,int(thresh.shape[1]/2)-i:int(thresh.shape[1]/2)+i+1]))\n",
    "    j=0\n",
    "    for i in range(int(thresh.shape[0]/2),thresh.shape[0]-10):\n",
    "        j+=1\n",
    "        lst.append(sum(thresh[i,i+1-int(thresh.shape[1]/2):int(thresh.shape[1])-j]))\n",
    "    return sum(lst)"
   ]
  },
  {
   "cell_type": "code",
   "execution_count": 13,
   "metadata": {},
   "outputs": [],
   "source": [
    "new_model = tf.keras.models.load_model('tf_model.h5')"
   ]
  },
  {
   "cell_type": "code",
   "execution_count": 50,
   "metadata": {},
   "outputs": [
    {
     "name": "stdout",
     "output_type": "stream",
     "text": [
      "[6]\n",
      "[0]\n"
     ]
    },
    {
     "data": {
      "text/plain": [
       "'cv2.imshow(\"sudoku1\",img)\\ncv2.waitKey(0)\\ncv2.destroyWindow(\"sudoku1\")'"
      ]
     },
     "execution_count": 50,
     "metadata": {},
     "output_type": "execute_result"
    }
   ],
   "source": [
    "img = cv2.imread(\"sudoku.jpeg\")\n",
    "\n",
    "contours,thresh = im_process(img)\n",
    "\"\"\"cv2.imshow(\"sudoku1\",thresh)\n",
    "cv2.waitKey(0)\n",
    "cv2.destroyWindow(\"sudoku1\")\"\"\"\n",
    "cnt,_ = find_rect(contours)\n",
    "\n",
    "rect = cv2.minAreaRect(cnt)\n",
    "\n",
    "box = cv2.boxPoints(rect)\n",
    "\n",
    "width = int(rect[1][0])\n",
    "height = int(rect[1][1])\n",
    "\n",
    "dst_pts = np.array([[0, height-1],[0, 0],[width-1, 0],[width-1, height-1]], dtype=\"float32\")\n",
    "\n",
    "img = cv2.warpPerspective(img,cv2.getPerspectiveTransform(box, dst_pts), (width, height))\n",
    "#img = img[10:int(img.shape[0])-10,10:int(img.shape[1])-10]\n",
    "row = img.shape[0]/9\n",
    "col = img.shape[1]/9\n",
    "\n",
    "for i in range(1):\n",
    "    for j in range(0,9):\n",
    "        image = img[int(row*i):int(row*(i+1)),int(col*j):int(col*(j+1))]\n",
    "        cnt ,thresh = im_process(image)\n",
    "        sm = rhom(thresh)\n",
    "        if sm>50000:\n",
    "            roi = cv2.resize(thresh, (28,28), interpolation=cv2.INTER_NEAREST).reshape(28,28,1)\n",
    "            #roi2 = roi.reshape(28, 28, 1)\n",
    "            sample = []\n",
    "            sample.append(roi)\n",
    "            sample = np.array(sample)\n",
    "            lst = new_model.predict(sample)\n",
    "            classes = np.argmax(lst, axis = 1)\n",
    "            print(classes)\n",
    "            cv2.imshow(\"sudoku\",roi)\n",
    "            cv2.waitKey(0)\n",
    "            cv2.destroyWindow(\"sudoku\")\n",
    "\n",
    "'''cv2.imshow(\"sudoku1\",img)\n",
    "cv2.waitKey(0)\n",
    "cv2.destroyWindow(\"sudoku1\")'''\n"
   ]
  },
  {
   "cell_type": "code",
   "execution_count": null,
   "metadata": {},
   "outputs": [],
   "source": []
  }
 ],
 "metadata": {
  "kernelspec": {
   "display_name": "Python 3",
   "language": "python",
   "name": "python3"
  },
  "language_info": {
   "codemirror_mode": {
    "name": "ipython",
    "version": 3
   },
   "file_extension": ".py",
   "mimetype": "text/x-python",
   "name": "python",
   "nbconvert_exporter": "python",
   "pygments_lexer": "ipython3",
   "version": "3.7.6"
  }
 },
 "nbformat": 4,
 "nbformat_minor": 4
}
