{
 "cells": [
  {
   "cell_type": "code",
   "execution_count": 1,
   "metadata": {},
   "outputs": [],
   "source": [
    "import numpy as np\n",
    "puz = np.array([])"
   ]
  },
  {
   "cell_type": "code",
   "execution_count": 2,
   "metadata": {},
   "outputs": [],
   "source": [
    "'''puzc=([0,0,0,0,0,5,4,0,0],\n",
    "         [7,3,0,1,0,0,0,6,0],\n",
    "         [0,6,9,4,0,0,1,0,0],\n",
    "         [1,9,7,0,0,0,0,5,0],\n",
    "         [0,0,0,0,0,0,0,0,0],\n",
    "         [0,5,0,0,0,0,7,9,8],\n",
    "         [0,0,2,0,0,3,5,7,0],\n",
    "         [0,7,0,0,0,6,0,4,9],\n",
    "         [0,0,3,5,0,0,0,0,0])'''\n",
    "puzc=([3,0,1,0,0,0,0,8,0],\n",
    "      [2,0,0,9,0,0,5,0,0],\n",
    "      [0,5,0,0,0,7,0,3,0],\n",
    "      [0,0,2,7,0,0,0,0,0],\n",
    "      [4,0,0,0,0,0,0,0,5],\n",
    "      [0,0,0,0,0,1,6,0,0],\n",
    "      [0,1,0,4,0,0,0,5,0],\n",
    "      [0,0,8,0,0,9,0,0,7],\n",
    "      [0,6,0,0,0,0,3,0,1])"
   ]
  },
  {
   "cell_type": "code",
   "execution_count": 3,
   "metadata": {},
   "outputs": [],
   "source": [
    "def checker(ele,row,col):\n",
    "    for i in range(0,9):\n",
    "        if puzc[i][col]==ele and i!=row:\n",
    "            return False\n",
    "    for i in range(0,9):\n",
    "        if puzc[row][i]==ele and i!=col:\n",
    "            return False\n",
    "    r=int(row/3)*3\n",
    "    c=int(col/3)*3\n",
    "    for i in range(0,3):\n",
    "        for j in range(0,3):\n",
    "            if puzc[i+r][j+c]==ele and i+r!=row and j+c!=col:\n",
    "                return False\n",
    "    return True"
   ]
  },
  {
   "cell_type": "code",
   "execution_count": 4,
   "metadata": {},
   "outputs": [],
   "source": [
    "def avail():\n",
    "    for i in range(0,9):\n",
    "        for j in range(0,9):\n",
    "            if puzc[i][j] == 0:\n",
    "                return i,j\n",
    "    return False"
   ]
  },
  {
   "cell_type": "code",
   "execution_count": 5,
   "metadata": {},
   "outputs": [
    {
     "name": "stdout",
     "output_type": "stream",
     "text": [
      "[3, 4, 1, 6, 5, 2, 7, 8, 9]\n",
      "[2, 8, 7, 9, 3, 4, 5, 1, 6]\n",
      "[6, 5, 9, 1, 8, 7, 2, 3, 4]\n",
      "[1, 3, 2, 7, 6, 5, 9, 4, 8]\n",
      "[4, 7, 6, 8, 9, 3, 1, 2, 5]\n",
      "[8, 9, 5, 2, 4, 1, 6, 7, 3]\n",
      "[9, 1, 3, 4, 7, 6, 8, 5, 2]\n",
      "[5, 2, 8, 3, 1, 9, 4, 6, 7]\n",
      "[7, 6, 4, 5, 2, 8, 3, 9, 1]\n"
     ]
    }
   ],
   "source": [
    "def solver():\n",
    "    if avail()==False:\n",
    "        return True\n",
    "    row,col = avail()\n",
    "    \n",
    "    for i in range(1,10):\n",
    "        if checker(i,row,col) == True:\n",
    "            puzc[row][col]=i\n",
    "            if solver()==True:\n",
    "                return True\n",
    "            puzc[row][col]=0\n",
    "    return False\n",
    "if solver():\n",
    "    for i in puzc:\n",
    "        print(i)\n",
    "else:\n",
    "    print(\"no\")\n"
   ]
  }
 ],
 "metadata": {
  "kernelspec": {
   "display_name": "Python 3",
   "language": "python",
   "name": "python3"
  },
  "language_info": {
   "codemirror_mode": {
    "name": "ipython",
    "version": 3
   },
   "file_extension": ".py",
   "mimetype": "text/x-python",
   "name": "python",
   "nbconvert_exporter": "python",
   "pygments_lexer": "ipython3",
   "version": "3.7.6"
  }
 },
 "nbformat": 4,
 "nbformat_minor": 4
}
